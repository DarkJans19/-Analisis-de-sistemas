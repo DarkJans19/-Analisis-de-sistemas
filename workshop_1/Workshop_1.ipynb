{
  "cells": [
    {
      "cell_type": "markdown",
      "metadata": {
        "id": "view-in-github",
        "colab_type": "text"
      },
      "source": [
        "<a href=\"https://colab.research.google.com/github/DarkJans19/-Analisis-de-sistemas/blob/main/Workshop_1.ipynb\" target=\"_parent\"><img src=\"https://colab.research.google.com/assets/colab-badge.svg\" alt=\"Open In Colab\"/></a>"
      ]
    },
    {
      "cell_type": "code",
      "execution_count": 21,
      "metadata": {
        "id": "YBZ84cuG4CLq"
      },
      "outputs": [],
      "source": [
        "import random\n",
        "import math"
      ]
    },
    {
      "cell_type": "code",
      "execution_count": null,
      "metadata": {
        "id": "q7KAXzC04GVM"
      },
      "outputs": [],
      "source": [
        "# Esta funcion se encarga de crear una secuencia de bases nucleotidas\n",
        "def create_sequence():\n",
        "  # Se crea la base con las letras de las bases\n",
        "    nucleotid_bases = [\"A\", \"C\", \"G\", \"T\"]\n",
        "    # Se escoge un numero aleatorio entre 10 y 20 que sera el tamaño de la secuencia\n",
        "    size_sequence = random.randint(10, 20)\n",
        "    # La nueva secuencia consta de que va un bucle desde 0 hasta el tamaño de la secuencia y de la lista nucleotida ira tomando un valor aleatorio entre 0 a 3 los cuales seran la secuencia\n",
        "    new_sequence = [nucleotid_bases[random.randint(0, 3)] for i in range(size_sequence)]\n",
        "    # El join sirve para pasar la secuencia a un String\n",
        "    return \"\".join(new_sequence)"
      ]
    },
    {
      "cell_type": "code",
      "execution_count": null,
      "metadata": {
        "id": "x9Q8Og2W4JVg"
      },
      "outputs": [],
      "source": [
        "# Se encarga de crear una data base\n",
        "def create_database():\n",
        "  # El valor de la data base sera de 50000\n",
        "    db_size = 50000\n",
        "    # Se hace una iteracion desde 0 hasta el tamaño de la data base en la que se ira creando una secuencia\n",
        "    data_base = [create_sequence() for i in range(db_size)]\n",
        "    return data_base"
      ]
    },
    {
      "cell_type": "code",
      "execution_count": null,
      "metadata": {
        "id": "Uc8bmqm_4MrI"
      },
      "outputs": [],
      "source": [
        "# Es otra forma de crear un dataset en la que se pide un valor\n",
        "def create_dataset(dataset_size: int):\n",
        "  # Aqui el valor ingresado se le hace un bucle desde 0 hasta el tamaño de la data base y se guardara en data set\n",
        "    dataset = [create_sequence() for i in range(dataset_size)]\n",
        "    return dataset"
      ]
    },
    {
      "cell_type": "code",
      "execution_count": null,
      "metadata": {
        "id": "ysBDQFSV4Oc_"
      },
      "outputs": [],
      "source": [
        "# Se encarga de hacer todas las posibles combinaciones de las secuencias\n",
        "def get_combinations(n, sequences, bases):\n",
        "    if n == 1:\n",
        "        return [sequence + base for sequence in sequences for base in bases]\n",
        "    else:\n",
        "        sequence_ = [sequence + base for sequence in sequences for base in bases]\n",
        "        return get_combinations(n - 1, sequence_, bases)"
      ]
    },
    {
      "cell_type": "code",
      "execution_count": 22,
      "metadata": {
        "id": "KIIdOEV04QBQ"
      },
      "outputs": [],
      "source": [
        "# Es una funcion que se encarga de hacer un contador\n",
        "def count_motif(motif, sequences_dataset):\n",
        "    count = 0\n",
        "    for sequence in sequences_dataset:\n",
        "        count += sequence.count(motif)\n",
        "    return count"
      ]
    },
    {
      "cell_type": "code",
      "execution_count": 23,
      "metadata": {
        "id": "Wv0zCKv84WOo"
      },
      "outputs": [],
      "source": [
        "# Recibira el motif junto con tres variables y regresara el motif que mas se repite\n",
        "def get_motif(motif_size, sequences_dataset):\n",
        "  # Se inicializa una variable con las bases nucleotidas\n",
        "    nucleotid_bases = [\"A\", \"C\", \"G\", \"T\"]\n",
        "    # Se hacen todas las posibles combinaciones de esa base\n",
        "    combinations = get_combinations(motif_size, [\"\"], nucleotid_bases)\n",
        "    # get motif with the highest count\n",
        "    max_counter = 0\n",
        "    motif_winner = \"\"\n",
        "    # Busca los posibles candidatos en las combinaciones para saber cual es el que mas se repite\n",
        "    for motif_candidate in combinations:\n",
        "      # Se encarga de hacer un contador temporal en el cual se llamara a la funcion count_motif y enviara las variables que tenemos disponibles\n",
        "        temp_counter = count_motif(motif_candidate, sequences_dataset)\n",
        "        # El condicional se encarga de ir actualizando las variables\n",
        "        if temp_counter > max_counter:\n",
        "            max_counter = temp_counter\n",
        "            motif_winner = motif_candidate\n",
        "    # Retirna el motif ganador\n",
        "    return motif_winner"
      ]
    },
    {
      "cell_type": "code",
      "execution_count": null,
      "metadata": {
        "id": "0MEAparS4X-f"
      },
      "outputs": [],
      "source": [
        "# Esta funcion se encarga de realizar la entropia de Shannon\n",
        "def calculate_shannon_entrophy(motif):\n",
        "  # Se hace una lista en la cual se hara un conteo de la cantidad de veces que hay una letra en la lista\n",
        "    count = [motif.count('A'),motif.count('G'),motif.count('C'),motif.count('T')]\n",
        "    entrophy = 0.0\n",
        "    # Se hace un bucle revisando los valores de la lista\n",
        "    for c in count:\n",
        "      # El condicional sirve que para que evitar que se genere un numero aleatorio al hacer la entropia de Shannon\n",
        "        if c != 0:\n",
        "          # Se utiliza la formula de la entropia de Shannon\n",
        "            entrophy -= (c/len(motif))*(math.log2(c/len(motif)))\n",
        "    # Retorna el valor de la entropia\n",
        "    return entrophy"
      ]
    },
    {
      "cell_type": "code",
      "execution_count": null,
      "metadata": {
        "id": "jR7KGar24Zdu"
      },
      "outputs": [],
      "source": [
        "# Se realiza el filtro de shannon\n",
        "def filter_shannon(motif):\n",
        "    eraser = True\n",
        "    # Se ira calculando el valor de todos los datos de su entropia y si no cumplen con la condicion se ignoran\n",
        "    if calculate_shannon_entrophy(motif) > 1.79:\n",
        "        eraser = False\n",
        "    elif (len(motif) == 8 and calculate_shannon_entrophy(motif) >= 1.92):\n",
        "        eraser = False\n",
        "    return eraser"
      ]
    },
    {
      "cell_type": "code",
      "execution_count": null,
      "metadata": {
        "colab": {
          "base_uri": "https://localhost:8080/"
        },
        "id": "hVojPxPl4cCO",
        "outputId": "fbb15939-3883-4e0a-9323-fc9100a0f291"
      },
      "outputs": [
        {
          "output_type": "stream",
          "name": "stdout",
          "text": [
            "\n",
            "Arter filter, motifs of size: 6\n"
          ]
        }
      ],
      "source": [
        "for size in [6, 8]:\n",
        "    print(f\"\\nArter filter, motifs of size: {size}\")\n",
        "    for i in range(10):\n",
        "        dataset = create_dataset(50000)\n",
        "        dataset = [chain for chain in dataset if filter_shannon(get_motif(6,create_database())) ]\n",
        "        print(f\"Dataset size: {len(dataset)}, Motif: {get_motif(size, dataset)}\")"
      ]
    }
  ],
  "metadata": {
    "colab": {
      "provenance": [],
      "authorship_tag": "ABX9TyNU9eWUvuhz/U4LRv1N5HbK",
      "include_colab_link": true
    },
    "kernelspec": {
      "display_name": "Python 3",
      "name": "python3"
    },
    "language_info": {
      "name": "python"
    }
  },
  "nbformat": 4,
  "nbformat_minor": 0
}
